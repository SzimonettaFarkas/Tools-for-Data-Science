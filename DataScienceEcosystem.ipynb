{
 "cells": [
  {
   "cell_type": "markdown",
   "id": "8c978027-786f-47bb-bf28-51330227843d",
   "metadata": {},
   "source": [
    "# Data Science Tools and Ecosystem"
   ]
  },
  {
   "cell_type": "markdown",
   "id": "c21c6357-6b9a-4b92-8566-db731a5e9263",
   "metadata": {},
   "source": [
    "In this notebook, Data Science Tools and Ecosystem are summarized."
   ]
  },
  {
   "cell_type": "markdown",
   "id": "26ffba56-b306-4d83-8e55-3e4c9d4d5317",
   "metadata": {},
   "source": [
    "Some of the popular languages that Data Scientists use are:\n",
    "1. Python\n",
    "2. R\n",
    "3. SQL"
   ]
  },
  {
   "cell_type": "markdown",
   "id": "7de9605b-1f3d-42ca-b0e7-83f4cd5b2433",
   "metadata": {},
   "source": [
    "Some of the commonly used libraries used by Data Scientists include:\n",
    "1. Pandas\n",
    "2. NumPy\n",
    "3. Matplotlib\n",
    "4. Seaborn\n",
    "5. Scikit-Learn\n",
    "6. Keras\n",
    "7. TensorFlow\n",
    "8. PyTorch"
   ]
  },
  {
   "cell_type": "markdown",
   "id": "eca7914a-1b59-4d23-90ff-2fdf8de59f01",
   "metadata": {},
   "source": [
    "Data Science Tools |\n",
    "--- |\n",
    "Jupyter Lab |\n",
    "Apache Zeppelin |\n",
    "R Studio |"
   ]
  },
  {
   "cell_type": "markdown",
   "id": "017c8df1-afae-4885-9a23-086001726c00",
   "metadata": {},
   "source": [
    "### Below are a few examples of evaluating arithmetic expressions in Python."
   ]
  },
  {
   "cell_type": "code",
   "execution_count": 2,
   "id": "78408087-4c46-41bb-9483-3cc9e7481d5e",
   "metadata": {},
   "outputs": [
    {
     "data": {
      "text/plain": [
       "17"
      ]
     },
     "execution_count": 2,
     "metadata": {},
     "output_type": "execute_result"
    }
   ],
   "source": [
    "# This a simple arithmetic expression to mutiply then add integers.\n",
    "(3*4)+5"
   ]
  },
  {
   "cell_type": "code",
   "execution_count": 3,
   "id": "4a028772-35f6-4624-afd3-5cc95d664594",
   "metadata": {},
   "outputs": [
    {
     "data": {
      "text/plain": [
       "3.3333333333333335"
      ]
     },
     "execution_count": 3,
     "metadata": {},
     "output_type": "execute_result"
    }
   ],
   "source": [
    "# This will convert 200 minutes to hours by diving by 60\n",
    "200/60"
   ]
  },
  {
   "cell_type": "markdown",
   "id": "a435f4b9-f08b-455f-a9e7-6d7513211c5d",
   "metadata": {},
   "source": [
    "**Objectives:**\n",
    "\n",
    "+ Python\n",
    "+ R \n",
    "+ SQL"
   ]
  },
  {
   "cell_type": "markdown",
   "id": "65d3967a-5d52-4e5e-bc96-554336d41b89",
   "metadata": {},
   "source": [
    "## Author\n",
    "\n",
    "Szimonetta Farkas"
   ]
  }
 ],
 "metadata": {
  "kernelspec": {
   "display_name": "Python",
   "language": "python",
   "name": "conda-env-python-py"
  },
  "language_info": {
   "codemirror_mode": {
    "name": "ipython",
    "version": 3
   },
   "file_extension": ".py",
   "mimetype": "text/x-python",
   "name": "python",
   "nbconvert_exporter": "python",
   "pygments_lexer": "ipython3",
   "version": "3.7.12"
  }
 },
 "nbformat": 4,
 "nbformat_minor": 5
}
